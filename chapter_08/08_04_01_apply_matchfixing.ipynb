{
 "cells": [
  {
   "cell_type": "code",
   "execution_count": 4,
   "metadata": {},
   "outputs": [
    {
     "name": "stdout",
     "output_type": "stream",
     "text": [
      "4/4 [==============================] - 0s 1ms/step\n",
      "승부조작 확률: 51.91%\n",
      "일반경기 확률: 48.09%\n"
     ]
    }
   ],
   "source": [
    "# 승부조작 딥러닝 모델 적용_08_04_01\n",
    "import pandas as pd\n",
    "import tensorflow as tf\n",
    "from sklearn.preprocessing import StandardScaler\n",
    "\n",
    "# 적용할 파일을 불러옵니다.\n",
    "file_name = \"apply_1.csv\"\n",
    "apply_df = pd.read_csv(file_name)\n",
    "model = tf.keras.models.load_model(\"matchfixing_model.keras\")\n",
    "\n",
    "# 입력 변수 (X)를 추출하고 데이터 표준화 (Standardization)를 수행합니다.\n",
    "X = apply_df[['HomeWin', 'Standoff', 'GuestWin']]\n",
    "scaler = StandardScaler()\n",
    "X_scaled = scaler.fit_transform(X)\n",
    "\n",
    "# 모델을 사용하여 예측 확률을 얻습니다.\n",
    "y_pred = model.predict(X_scaled)\n",
    "\n",
    "# 승부조작 확률과 일반경기 확률을 출력합니다.\n",
    "match_fixing_prob = y_pred[:, 1].mean() * 100\n",
    "normal_game_prob = y_pred[:, 0].mean() * 100\n",
    "print(f\"승부조작 확률: {match_fixing_prob:.2f}%\")\n",
    "print(f\"일반경기 확률: {normal_game_prob:.2f}%\")"
   ]
  }
 ],
 "metadata": {
  "kernelspec": {
   "display_name": "Python 3",
   "language": "python",
   "name": "python3"
  },
  "language_info": {
   "codemirror_mode": {
    "name": "ipython",
    "version": 3
   },
   "file_extension": ".py",
   "mimetype": "text/x-python",
   "name": "python",
   "nbconvert_exporter": "python",
   "pygments_lexer": "ipython3",
   "version": "3.11.2"
  },
  "orig_nbformat": 4
 },
 "nbformat": 4,
 "nbformat_minor": 2
}
