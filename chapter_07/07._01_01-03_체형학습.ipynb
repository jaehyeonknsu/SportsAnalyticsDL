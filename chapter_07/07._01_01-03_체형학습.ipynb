{
 "cells": [
  {
   "cell_type": "code",
   "execution_count": 20,
   "metadata": {},
   "outputs": [],
   "source": [
    "#기본 라이브러리 세팅_07_03_01\n",
    "import numpy as np\n",
    "import pandas as pd\n",
    "import tensorflow as tf\n",
    "from sklearn.preprocessing import StandardScaler\n",
    "\n",
    "data = pd.read_csv('somatotype.csv')\n",
    "# data.info()"
   ]
  },
  {
   "cell_type": "code",
   "execution_count": 21,
   "metadata": {},
   "outputs": [
    {
     "name": "stdout",
     "output_type": "stream",
     "text": [
      "[1 1 1 1 1 1 1 1 1 1 0 2 1 1 1 1 1 1 1 1]\n",
      "   gender  height  weight  fat_kg  mm_kg\n",
      "0       1  177.07    70.7    13.9   53.4\n",
      "[[-0.9537936   0.84503487  0.07325684 -0.57877768  0.47010085]]\n"
     ]
    }
   ],
   "source": [
    "#데이터 전처리_07_03_02\n",
    "y_data = data['somatotype'].values\n",
    "print(y_data[:20])\n",
    "\n",
    "x_data = data[['gender', 'height', 'weight', 'fat_kg', 'mm_kg']]\n",
    "print(x_data[:1])\n",
    "\n",
    "# x_data를 표준화\n",
    "scaler = StandardScaler()\n",
    "x_data_normalized = scaler.fit_transform(x_data)\n",
    "print(x_data_normalized[:1])"
   ]
  },
  {
   "cell_type": "code",
   "execution_count": 22,
   "metadata": {},
   "outputs": [
    {
     "name": "stdout",
     "output_type": "stream",
     "text": [
      "Epoch 1/30\n",
      "9/9 [==============================] - 1s 84ms/step - loss: 0.6689 - accuracy: 0.7018\n",
      "Epoch 2/30\n",
      "9/9 [==============================] - 1s 86ms/step - loss: 0.4636 - accuracy: 0.8109\n",
      "Epoch 3/30\n",
      "9/9 [==============================] - 1s 88ms/step - loss: 0.3905 - accuracy: 0.8327\n",
      "Epoch 4/30\n",
      "9/9 [==============================] - 1s 86ms/step - loss: 0.3535 - accuracy: 0.8400\n",
      "Epoch 5/30\n",
      "9/9 [==============================] - 1s 89ms/step - loss: 0.3513 - accuracy: 0.8473\n",
      "Epoch 6/30\n",
      "9/9 [==============================] - 1s 89ms/step - loss: 0.3535 - accuracy: 0.8291\n",
      "Epoch 7/30\n",
      "9/9 [==============================] - 1s 89ms/step - loss: 0.3902 - accuracy: 0.8400\n",
      "Epoch 8/30\n",
      "9/9 [==============================] - 1s 88ms/step - loss: 0.3384 - accuracy: 0.8509\n",
      "Epoch 9/30\n",
      "9/9 [==============================] - 1s 88ms/step - loss: 0.3243 - accuracy: 0.8327\n",
      "Epoch 10/30\n",
      "9/9 [==============================] - 1s 87ms/step - loss: 0.2899 - accuracy: 0.8764\n",
      "Epoch 11/30\n",
      "9/9 [==============================] - 1s 88ms/step - loss: 0.2776 - accuracy: 0.8764\n",
      "Epoch 12/30\n",
      "9/9 [==============================] - 1s 86ms/step - loss: 0.2732 - accuracy: 0.8800\n",
      "Epoch 13/30\n",
      "9/9 [==============================] - 1s 86ms/step - loss: 0.2974 - accuracy: 0.8836\n",
      "Epoch 14/30\n",
      "9/9 [==============================] - 1s 87ms/step - loss: 0.2660 - accuracy: 0.8836\n",
      "Epoch 15/30\n",
      "9/9 [==============================] - 1s 87ms/step - loss: 0.2687 - accuracy: 0.8873\n",
      "Epoch 16/30\n",
      "9/9 [==============================] - 1s 87ms/step - loss: 0.2907 - accuracy: 0.8727\n",
      "Epoch 17/30\n",
      "9/9 [==============================] - 1s 88ms/step - loss: 0.2518 - accuracy: 0.8764\n",
      "Epoch 18/30\n",
      "9/9 [==============================] - 1s 88ms/step - loss: 0.2446 - accuracy: 0.8764\n",
      "Epoch 19/30\n",
      "9/9 [==============================] - 1s 85ms/step - loss: 0.2269 - accuracy: 0.9018\n",
      "Epoch 20/30\n",
      "9/9 [==============================] - 1s 85ms/step - loss: 0.2777 - accuracy: 0.8873\n",
      "Epoch 21/30\n",
      "9/9 [==============================] - 1s 86ms/step - loss: 0.3205 - accuracy: 0.8400\n",
      "Epoch 22/30\n",
      "9/9 [==============================] - 1s 88ms/step - loss: 0.3113 - accuracy: 0.8473\n",
      "Epoch 23/30\n",
      "9/9 [==============================] - 1s 89ms/step - loss: 0.2689 - accuracy: 0.8909\n",
      "Epoch 24/30\n",
      "9/9 [==============================] - 1s 86ms/step - loss: 0.2795 - accuracy: 0.8691\n",
      "Epoch 25/30\n",
      "9/9 [==============================] - 1s 86ms/step - loss: 0.2458 - accuracy: 0.8764\n",
      "Epoch 26/30\n",
      "9/9 [==============================] - 1s 85ms/step - loss: 0.2747 - accuracy: 0.8909\n",
      "Epoch 27/30\n",
      "9/9 [==============================] - 1s 84ms/step - loss: 0.2451 - accuracy: 0.8800\n",
      "Epoch 28/30\n",
      "9/9 [==============================] - 1s 87ms/step - loss: 0.2343 - accuracy: 0.8909\n",
      "Epoch 29/30\n",
      "9/9 [==============================] - 1s 88ms/step - loss: 0.2285 - accuracy: 0.8909\n",
      "Epoch 30/30\n",
      "9/9 [==============================] - 1s 86ms/step - loss: 0.2071 - accuracy: 0.9127\n"
     ]
    }
   ],
   "source": [
    "# 체형분류 딥러닝 모델 개발_07_03_03\n",
    "model = tf.keras.models.Sequential([\n",
    "    tf.keras.layers.Flatten(input_shape=(5,)),\n",
    "    tf.keras.layers.Dense(2560, activation='relu'),\n",
    "    tf.keras.layers.Dense(2560, activation='relu'),\n",
    "    tf.keras.layers.Dense(1280, activation='relu'),\n",
    "    tf.keras.layers.Dense(3, activation='sigmoid')])\n",
    "\n",
    "model.compile(tf.keras.optimizers.Adam(learning_rate=0.001),\n",
    "              loss='sparse_categorical_crossentropy',\n",
    "              metrics=['accuracy'])\n",
    "\n",
    "# 모델 훈련 (NumPy 배열로 데이터 형변환)\n",
    "x_data_normalized = np.array(x_data_normalized)\n",
    "y_data = np.array(y_data)\n",
    "model.fit(x_data_normalized, y_data, epochs=30)\n",
    "\n",
    "# 최종 loss: 0.0971, accuracy: 0.8982\n",
    "model.save(\"somatotype_model.keras\")"
   ]
  },
  {
   "cell_type": "code",
   "execution_count": null,
   "metadata": {},
   "outputs": [],
   "source": []
  }
 ],
 "metadata": {
  "kernelspec": {
   "display_name": "Python 3",
   "language": "python",
   "name": "python3"
  },
  "language_info": {
   "codemirror_mode": {
    "name": "ipython",
    "version": 3
   },
   "file_extension": ".py",
   "mimetype": "text/x-python",
   "name": "python",
   "nbconvert_exporter": "python",
   "pygments_lexer": "ipython3",
   "version": "3.11.2"
  },
  "orig_nbformat": 4
 },
 "nbformat": 4,
 "nbformat_minor": 2
}
