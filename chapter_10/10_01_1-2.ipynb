{
 "cells": [
  {
   "cell_type": "code",
   "execution_count": 1,
   "metadata": {},
   "outputs": [
    {
     "data": {
      "image/png": "[encoded data removed]",
      "text/plain": [
       "<Figure size 600x200 with 2 Axes>"
      ]
     },
     "metadata": {},
     "output_type": "display_data"
    }
   ],
   "source": [
    "# 혼돈행렬 예제_10_01_01\n",
    "import numpy as np\n",
    "from sklearn.metrics import confusion_matrix\n",
    "import matplotlib.pyplot as plt\n",
    "import seaborn as sns\n",
    "# 예측값과 실제값 생성\n",
    "y_true = [1, 0, 1, 1, 0, 1, 0, 0, 1, 0, 0, 0, 1, 1, 1, 0]\n",
    "y_pred = [1, 0, 0, 1, 0, 1, 1, 0, 1, 1, 0, 0, 0, 1, 1, 1]\n",
    "cm = confusion_matrix(y_true, y_pred) # 혼동 행렬 계산\n",
    "plt.figure(figsize=(6, 2))\n",
    "sns.heatmap(cm, annot=True, fmt=\"d\", cmap=\"Blues\", xticklabels=['Positive', 'Negative'], yticklabels=['Positive', 'Negative'])\n",
    "plt.xlabel('Predicted')\n",
    "plt.ylabel('Actual')\n",
    "plt.title('Confusion Matrix')\n",
    "plt.show()\n"
   ]
  },
  {
   "cell_type": "code",
   "execution_count": 2,
   "metadata": {},
   "outputs": [
    {
     "name": "stdout",
     "output_type": "stream",
     "text": [
      "정확도 (Accuracy): 0.69\n",
      "민감도 (Recall): 0.71\n",
      "정밀도 (Precision): 0.62\n",
      "특이도 (Specificity): 0.67\n",
      "F1 점수 (F1 Score): 0.67\n"
     ]
    }
   ],
   "source": [
    "# 정확도, 재현율, 정밀도, 특이도, F1 산출_10_01_02\n",
    "TP = cm[0, 0]\n",
    "TN = cm[1, 1]\n",
    "FP = cm[0, 1]\n",
    "FN = cm[1, 0]\n",
    "# 정확도 (Accuracy) 계산\n",
    "accuracy = (TP + TN) / (TP + TN + FP + FN)\n",
    "# 민감도 또는 재현율 (Sensitivity or Recall) 계산\n",
    "recall = TP / (TP + FN)\n",
    "# 정밀도 (Precision) 계산\n",
    "precision = TP / (TP + FP)\n",
    "# 특이도 (Specificity) 계산\n",
    "specificity = TN / (TN + FP)\n",
    "# F1 점수 계산\n",
    "f1_score = 2 * (precision * recall) / (precision + recall)\n",
    "\n",
    "# 결과 출력\n",
    "print(f'정확도 (Accuracy): {accuracy:.2f}')\n",
    "print(f'민감도 (Recall): {recall:.2f}')\n",
    "print(f'정밀도 (Precision): {precision:.2f}')\n",
    "print(f'특이도 (Specificity): {specificity:.2f}')\n",
    "print(f'F1 점수 (F1 Score): {f1_score:.2f}')"
   ]
  },
  {
   "cell_type": "code",
   "execution_count": null,
   "metadata": {},
   "outputs": [],
   "source": []
  }
 ],
 "metadata": {
  "kernelspec": {
   "display_name": "Python 3",
   "language": "python",
   "name": "python3"
  },
  "language_info": {
   "codemirror_mode": {
    "name": "ipython",
    "version": 3
   },
   "file_extension": ".py",
   "mimetype": "text/x-python",
   "name": "python",
   "nbconvert_exporter": "python",
   "pygments_lexer": "ipython3",
   "version": "3.11.4"
  }
 },
 "nbformat": 4,
 "nbformat_minor": 2
}
