{
 "cells": [
  {
   "cell_type": "code",
   "execution_count": 1,
   "metadata": {},
   "outputs": [
    {
     "name": "stdout",
     "output_type": "stream",
     "text": [
      "5 x 1 = 5\n",
      "5 x 2 = 10\n",
      "5 x 3 = 15\n",
      "5 x 4 = 20\n",
      "5 x 5 = 25\n",
      "5 x 6 = 30\n",
      "5 x 7 = 35\n",
      "5 x 8 = 40\n",
      "5 x 9 = 45\n"
     ]
    }
   ],
   "source": [
    "def print_multiplication_table(number):\n",
    "    # 입력된 숫자에 대한 구구단 출력\n",
    "    for i in range(1, 10):\n",
    "        print(f\"{number} x {i} = {number*i}\")\n",
    "\n",
    "def main():\n",
    "    try:\n",
    "        # 사용자 입력 받기\n",
    "        number = int(input(\"구구단 중 출력하고 싶은 숫자를 입력하세요 (1-9): \"))\n",
    "        # 입력값 검증\n",
    "        if 1 <= number <= 9:\n",
    "            print_multiplication_table(number)\n",
    "        else:\n",
    "            print(\"1부터 9까지의 숫자만 입력해주세요.\")\n",
    "    except ValueError:\n",
    "        # 입력값이 숫자가 아닐 경우의 처리\n",
    "        print(\"숫자만 입력해주세요.\")\n",
    "\n",
    "if __name__ == \"__main__\":\n",
    "    main()"
   ]
  },
  {
   "cell_type": "code",
   "execution_count": null,
   "metadata": {},
   "outputs": [],
   "source": []
  }
 ],
 "metadata": {
  "kernelspec": {
   "display_name": "Python 3",
   "language": "python",
   "name": "python3"
  },
  "language_info": {
   "codemirror_mode": {
    "name": "ipython",
    "version": 3
   },
   "file_extension": ".py",
   "mimetype": "text/x-python",
   "name": "python",
   "nbconvert_exporter": "python",
   "pygments_lexer": "ipython3",
   "version": "3.11.4"
  }
 },
 "nbformat": 4,
 "nbformat_minor": 2
}
