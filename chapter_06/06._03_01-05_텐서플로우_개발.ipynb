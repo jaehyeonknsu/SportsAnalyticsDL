{
 "cells": [
  {
   "cell_type": "code",
   "execution_count": 1,
   "metadata": {},
   "outputs": [],
   "source": [
    "# 텐서플로우 라이브러리 등_06_03_01\n",
    "import tensorflow as tf\n",
    "import glob\n",
    "import imageio.v2 as imageio\n",
    "import numpy as np\n",
    "import pandas as pd\n",
    "import matplotlib.pyplot as plt\n",
    "%matplotlib inline\n",
    "\n",
    "# 사용자 정의 데이터 파일 로드\n",
    "training_data_file = open(\"mnist_train.csv\", 'r')\n",
    "training_data_list = training_data_file.readlines()\n",
    "training_data_file.close()"
   ]
  },
  {
   "cell_type": "code",
   "execution_count": 2,
   "metadata": {},
   "outputs": [],
   "source": [
    "# 이미지 데이터와 레이블 추출_06_03_02\n",
    "x_train = []\n",
    "y_train = []\n",
    "for record in training_data_list:\n",
    "    all_values = record.split(',')\n",
    "    label = int(all_values[0])  # 타겟값은 0번째 열\n",
    "    y_train.append(label)\n",
    "    image_array = np.asfarray(all_values[1:]).reshape((28, 28))  # 이미지 데이터 추출\n",
    "    x_train.append(image_array)"
   ]
  },
  {
   "cell_type": "code",
   "execution_count": 3,
   "metadata": {},
   "outputs": [
    {
     "name": "stdout",
     "output_type": "stream",
     "text": [
      "Epoch 1/2\n",
      "1250/1250 [==============================] - 8s 6ms/step - loss: 0.2578 - accuracy: 0.9221\n",
      "Epoch 2/2\n",
      "1250/1250 [==============================] - 7s 6ms/step - loss: 0.1165 - accuracy: 0.9637\n"
     ]
    },
    {
     "data": {
      "text/plain": [
       "<keras.src.callbacks.History at 0x2575df1af10>"
      ]
     },
     "execution_count": 3,
     "metadata": {},
     "output_type": "execute_result"
    }
   ],
   "source": [
    "# 데이터 정규화, 모델생성, 학습_06_03_03\n",
    "x_train = np.array(x_train) / 255.0\n",
    "y_train = np.array(y_train)\n",
    "\n",
    "# 모델 생성\n",
    "model = tf.keras.models.Sequential([\n",
    "    tf.keras.layers.Flatten(input_shape=(28, 28)),\n",
    "    tf.keras.layers.Dense(512, activation='relu'),\n",
    "    tf.keras.layers.Dropout(0.2),\n",
    "    tf.keras.layers.Dense(256, activation='relu'),\n",
    "    tf.keras.layers.Dropout(0.2),\n",
    "    tf.keras.layers.Dense(10, activation='softmax')   \n",
    "])\n",
    "\n",
    "# 모델 컴파일\n",
    "model.compile(\n",
    "    optimizer='adam',\n",
    "    loss='sparse_categorical_crossentropy',\n",
    "    metrics=['accuracy']\n",
    ")\n",
    "\n",
    "# 모델 학습\n",
    "model.fit(x_train, y_train, epochs=2)"
   ]
  },
  {
   "cell_type": "code",
   "execution_count": 4,
   "metadata": {},
   "outputs": [
    {
     "name": "stdout",
     "output_type": "stream",
     "text": [
      "313/313 [==============================] - 1s 2ms/step - loss: 0.0819 - accuracy: 0.9752\n",
      "Test Accuracy: 97.52%\n"
     ]
    }
   ],
   "source": [
    "# 모델의 테스트 데이터 성능 검증_06_03_04\n",
    "test_data_file = open(\"mnist_test.csv\", 'r')  # 테스트 데이터 파일을 로드\n",
    "test_data_list = test_data_file.readlines()\n",
    "test_data_file.close()\n",
    "\n",
    "x_test = []\n",
    "y_test = []\n",
    "for record in test_data_list:\n",
    "    all_values = record.split(',')\n",
    "    label = int(all_values[0])\n",
    "    y_test.append(label)\n",
    "    image_array = np.asfarray(all_values[1:]).reshape((28, 28))\n",
    "    x_test.append(image_array)\n",
    "\n",
    "x_test = np.array(x_test) / 255.0\n",
    "y_test = np.array(y_test)\n",
    "\n",
    "test_loss, test_accuracy = model.evaluate(x_test, y_test, verbose=1)\n",
    "print(f\"Test Accuracy: {test_accuracy*100:.2f}%\")\n"
   ]
  },
  {
   "cell_type": "code",
   "execution_count": 5,
   "metadata": {},
   "outputs": [],
   "source": [
    "# 개발된 딥러닝 모델 저장_06_03_05\n",
    "# model.save(\"number_model.keras\")"
   ]
  },
  {
   "cell_type": "code",
   "execution_count": null,
   "metadata": {},
   "outputs": [],
   "source": []
  }
 ],
 "metadata": {
  "kernelspec": {
   "display_name": "Python 3",
   "language": "python",
   "name": "python3"
  },
  "language_info": {
   "codemirror_mode": {
    "name": "ipython",
    "version": 3
   },
   "file_extension": ".py",
   "mimetype": "text/x-python",
   "name": "python",
   "nbconvert_exporter": "python",
   "pygments_lexer": "ipython3",
   "version": "3.11.2"
  },
  "orig_nbformat": 4
 },
 "nbformat": 4,
 "nbformat_minor": 2
}
