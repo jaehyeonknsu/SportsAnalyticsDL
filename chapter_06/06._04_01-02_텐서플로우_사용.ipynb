{
 "cells": [
  {
   "cell_type": "code",
   "execution_count": 1,
   "metadata": {},
   "outputs": [
    {
     "name": "stdout",
     "output_type": "stream",
     "text": [
      "불러오기 성공했습니다. example_0.png\n",
      "불러오기 성공했습니다. example_1.png\n",
      "불러오기 성공했습니다. example_2.png\n",
      "불러오기 성공했습니다. example_3.png\n",
      "불러오기 성공했습니다. example_4.png\n",
      "불러오기 성공했습니다. example_5.png\n",
      "불러오기 성공했습니다. example_6.png\n",
      "불러오기 성공했습니다. example_7.png\n",
      "불러오기 성공했습니다. example_8.png\n",
      "불러오기 성공했습니다. example_9.png\n"
     ]
    }
   ],
   "source": [
    "# 손글씨 파일 불러오기_06_04_01\n",
    "import glob\n",
    "import imageio.v2 as imageio\n",
    "import numpy as np\n",
    "\n",
    "number_data = []\n",
    "\n",
    "for image_file_name in glob.glob('example_?.png'):\n",
    "    label = int(image_file_name[-5:-4])\n",
    "    print(\"불러오기 성공했습니다.\", image_file_name)\n",
    "    img_array = imageio.imread(image_file_name, mode='L')\n",
    "    img_data = 255.0 - img_array.reshape(784)\n",
    "    img_data = (img_data / 255.0 * 0.99) + 0.01\n",
    "\n",
    "    record = np.append(label, img_data)\n",
    "    number_data.append(record)\n",
    "\n",
    "inputs = np.array([record[1:] for record in number_data]).reshape(-1, 28, 28)"
   ]
  },
  {
   "cell_type": "code",
   "execution_count": 2,
   "metadata": {},
   "outputs": [
    {
     "name": "stdout",
     "output_type": "stream",
     "text": [
      "\u001b[1m1/1\u001b[0m \u001b[32m━━━━━━━━━━━━━━━━━━━━\u001b[0m\u001b[37m\u001b[0m \u001b[1m0s\u001b[0m 54ms/step\n",
      "파일명:example_3\n",
      "딥러닝이 판단한 숫자는 3 입니다.\n",
      "정답입니다!\n"
     ]
    },
    {
     "data": {
      "image/png": "[encoded data removed]",
      "text/plain": [
       "<Figure size 640x480 with 1 Axes>"
      ]
     },
     "metadata": {},
     "output_type": "display_data"
    }
   ],
   "source": [
    "# 저장된 모델 불러와 새 이미지에 적용_06_04_02\n",
    "import tensorflow as tf\n",
    "import matplotlib.pyplot as plt\n",
    "\n",
    "# 모델을 로드합니다.\n",
    "loaded_model = tf.keras.models.load_model(\"number_model.keras\")\n",
    "\n",
    "# 예측할 이미지 선택\n",
    "item = int(input(\"이미지 번호는?(0부터 {}까지 가능): \".format(len(number_data) - 1)))\n",
    "\n",
    "# 선택한 이미지 표시\n",
    "plt.imshow(number_data[item][1:].reshape(28, 28), cmap='Greys', interpolation='None')\n",
    "correct_label = number_data[item][0]\n",
    "\n",
    "# 모델에 입력 데이터를 주고 예측\n",
    "input_image = number_data[item][1:].reshape(1, 28, 28)\n",
    "outputs = loaded_model.predict(input_image)\n",
    "label = np.argmax(outputs)\n",
    "\n",
    "# 파일명 출력\n",
    "print(\"파일명:\", \"example_\", item, sep=\"\")\n",
    "\n",
    "# AI 예측 결과 출력\n",
    "print('딥러닝이 판단한 숫자는', label, '입니다.')\n",
    "\n",
    "# 정답 여부 출력\n",
    "if label == correct_label:\n",
    "    print(\"정답입니다!\")\n",
    "else:\n",
    "    print(\"오답입니다!\")"
   ]
  },
  {
   "cell_type": "code",
   "execution_count": null,
   "metadata": {},
   "outputs": [],
   "source": []
  }
 ],
 "metadata": {
  "kernelspec": {
   "display_name": "Python 3",
   "language": "python",
   "name": "python3"
  },
  "language_info": {
   "codemirror_mode": {
    "name": "ipython",
    "version": 3
   },
   "file_extension": ".py",
   "mimetype": "text/x-python",
   "name": "python",
   "nbconvert_exporter": "python",
   "pygments_lexer": "ipython3",
   "version": "3.11.4"
  },
  "orig_nbformat": 4
 },
 "nbformat": 4,
 "nbformat_minor": 2
}
